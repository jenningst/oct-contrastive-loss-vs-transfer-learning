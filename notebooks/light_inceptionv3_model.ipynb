{
 "cells": [
  {
   "cell_type": "code",
   "execution_count": 29,
   "metadata": {
    "id": "chcIyUVPKQRU"
   },
   "outputs": [],
   "source": [
    "import os\n",
    "import matplotlib.pyplot as plt\n",
    "import random\n",
    "import shutil\n",
    "import tensorflow as tf\n",
    "from tensorflow import keras\n",
    "import numpy as np\n",
    "import itertools\n",
    "\n",
    "from tensorflow.keras.applications.inception_v3 import InceptionV3\n",
    "from tensorflow.keras.preprocessing import image\n",
    "from tensorflow.keras.models import Model\n",
    "from tensorflow.keras.layers import Dense, GlobalAveragePooling2D\n",
    "from sklearn.metrics import confusion_matrix"
   ]
  },
  {
   "cell_type": "markdown",
   "metadata": {},
   "source": [
    "# Introduction\n",
    "\n",
    "In this notebook we will use transfer learning, a method to use features learned on a large dataset and then fine tune the learned model on our particular problem, which is retinal images. \n",
    "\n",
    "The most common workflow for transfer learning is as follows :\n",
    "\n",
    "1. Take layers from a previously trained model.\n",
    "2. Freeze them, so as to avoid destroying any of the information they contain during future training rounds.\n",
    "3. Add some new, trainable layers on top of the frozen layers. They will learn to turn the old features into predictions on a new dataset.\n",
    "4. Train the new layers on your dataset.\n",
    "\n",
    "\n",
    "We choose Inception V3 as the trained model. \n",
    "But before we can start the workflow, we need to preprocess our images to be of the same size.Let's define some variables. "
   ]
  },
  {
   "cell_type": "code",
   "execution_count": null,
   "metadata": {
    "id": "lTaYdRU1KXJP"
   },
   "outputs": [],
   "source": [
    "AUTOTUNE = tf.data.AUTOTUNE\n",
    "BASE_IMG_PATH = '/content/drive/Othercomputers/My MacBook Pro/OCT2017'\n",
    "LITE_IMG_PATH = os.path.join(BASE_IMG_PATH, 'light-set/')\n",
    "BATCH_SIZE = 32\n",
    "IMG_HEIGHT = 299 # match image dimensions to inceptionv3\n",
    "IMG_WIDTH = 299  # match image dimensions to inceptionv3\n",
    "SEED = 42\n",
    "SAMPLE_SIZE = 250"
   ]
  },
  {
   "cell_type": "markdown",
   "metadata": {
    "id": "ZYXINSp_RoZh"
   },
   "source": [
    "# Count check\n",
    "\n",
    "We will first check that the number of images for each class in the training set is correct.\n"
   ]
  },
  {
   "cell_type": "code",
   "execution_count": null,
   "metadata": {
    "colab": {
     "base_uri": "https://localhost:8080/"
    },
    "id": "MrMfDy-1KZml",
    "outputId": "0a202398-677b-4fff-de2c-2efd9caf73ec"
   },
   "outputs": [
    {
     "name": "stdout",
     "output_type": "stream",
     "text": [
      "Training set is clean\n"
     ]
    }
   ],
   "source": [
    "for subdir in os.listdir(os.path.join(BASE_IMG_PATH, 'train')):\n",
    "    file_count = len(os.listdir(os.path.join(BASE_IMG_PATH, \"train\", subdir)))\n",
    "    if subdir == 'NORMAL':\n",
    "        assert file_count == 26312, 'NORMAL file count is incorrect'\n",
    "    elif subdir == 'DME':\n",
    "        assert file_count == 11343, 'DME file count is incorrect'\n",
    "    elif subdir == 'CNV':\n",
    "        assert file_count == 37202, 'CNV file count is incorrect'\n",
    "    elif subdir == 'DRUSEN':\n",
    "        assert file_count == 8602, 'DRUSEN file count is incorrect'\n",
    "    else:\n",
    "        pass\n",
    "\n",
    "print('Training set is clean')"
   ]
  },
  {
   "cell_type": "markdown",
   "metadata": {
    "id": "q_UpRm_VhFkW"
   },
   "source": [
    "# Sample Dataset\n",
    "\n",
    "We will sample 250 images from each class. Let's defined 2 functions. "
   ]
  },
  {
   "cell_type": "code",
   "execution_count": 22,
   "metadata": {
    "id": "2s5crPjAg55d"
   },
   "outputs": [],
   "source": [
    "def sample_classes(n: int=250):\n",
    "    '''\n",
    "    Samples n files from each class of the training dataset. \n",
    "    These samples are moved to another folder than contains the 4 folders, one for each class \n",
    "    '''\n",
    "\n",
    "    random.seed(SEED)\n",
    "    TRAIN_PATH = os.path.join(BASE_IMG_PATH, 'train/')\n",
    "\n",
    "    for subdir in os.listdir(TRAIN_PATH):\n",
    "        print(f'Sampling {subdir}')\n",
    "        # list the files and their indexes\n",
    "        subdir_files = os.listdir(os.path.join(TRAIN_PATH, subdir))\n",
    "        sample_indexes = random.sample([ i for i in range(len(subdir_files))], SAMPLE_SIZE)\n",
    "        for s in sample_indexes:\n",
    "            try:\n",
    "                shutil.move(\n",
    "                    src=os.path.join(TRAIN_PATH, subdir, subdir_files[s]),\n",
    "                    dst=os.path.join(LITE_IMG_PATH, subdir, subdir_files[s])\n",
    "                )\n",
    "                # print(f'Successfully sampled file {subdir_files[s]}')\n",
    "            except Exception as err:\n",
    "                print(f'Error occurred during copy for file {subdir_files[s]}: {err}')\n",
    "    print('Sampling completed')\n",
    "\n",
    "def cleanup_classes():\n",
    "    '''\n",
    "    Moves all sampled files back into their repspective training dataset class.\n",
    "    '''\n",
    "\n",
    "    random.seed(SEED)\n",
    "\n",
    "    for subdir in os.listdir(LITE_IMG_PATH):\n",
    "        print(f'Cleaning up {subdir}')\n",
    "        subdir_files = os.listdir(os.path.join(LITE_IMG_PATH, subdir))\n",
    "        for s in subdir_files:\n",
    "            try:\n",
    "                shutil.move(\n",
    "                    src=os.path.join(LITE_IMG_PATH, subdir, s),\n",
    "                    dst=os.path.join(BASE_IMG_PATH, 'train', subdir, s)\n",
    "                )\n",
    "                # print(f'Successfully moved file back to {s}')\n",
    "            except Exception as err:\n",
    "                print(f'Error occurred during copy for file {s}: {err}')\n",
    "    print('Cleanup completed')\n",
    "    "
   ]
  },
  {
   "cell_type": "code",
   "execution_count": null,
   "metadata": {
    "colab": {
     "base_uri": "https://localhost:8080/"
    },
    "id": "UshH48-xhDfd",
    "outputId": "e59d56a8-0b59-4cd2-f748-0aab65c76a65"
   },
   "outputs": [
    {
     "name": "stdout",
     "output_type": "stream",
     "text": [
      "Sampling NORMAL\n",
      "Sampling DME\n",
      "Sampling CNV\n",
      "Sampling DRUSEN\n",
      "Sampling completed\n"
     ]
    }
   ],
   "source": [
    "# create the dataset (by sampling) for the light model\n",
    "sample_classes(n=250)"
   ]
  },
  {
   "cell_type": "markdown",
   "metadata": {
    "id": "0x6WRUFohoYL"
   },
   "source": [
    "# Data Preprocessing\n",
    "\n",
    "## Load training and validation data\n",
    "We use the test dataset as validation. \n",
    "\n",
    "From our preliminary analysis on the data, we found out that the shape of our images are `(496, 512, 3)`. We use `image_dataset_from_directory` and pass in the corresponding values for Inception V3 for `image_size`. "
   ]
  },
  {
   "cell_type": "code",
   "execution_count": null,
   "metadata": {
    "colab": {
     "base_uri": "https://localhost:8080/"
    },
    "id": "-EjACRHrhYTX",
    "outputId": "769ead89-76b3-4950-a502-10825118a3af"
   },
   "outputs": [
    {
     "name": "stdout",
     "output_type": "stream",
     "text": [
      "Found 1000 files belonging to 4 classes.\n",
      "Found 1000 files belonging to 4 classes.\n"
     ]
    }
   ],
   "source": [
    "# load training data\n",
    "train_data = keras.utils.image_dataset_from_directory(\n",
    "    directory=LITE_IMG_PATH,\n",
    "    labels='inferred',\n",
    "    label_mode='categorical',\n",
    "    batch_size=BATCH_SIZE,\n",
    "    image_size=(IMG_HEIGHT, IMG_WIDTH),\n",
    "    shuffle=True,\n",
    "    seed=SEED,\n",
    ")\n",
    "\n",
    "# load validation (test) data\n",
    "validation_data = keras.utils.image_dataset_from_directory(\n",
    "    directory=os.path.join(BASE_IMG_PATH, 'test'),\n",
    "    labels='inferred',\n",
    "    label_mode='categorical',\n",
    "    batch_size=BATCH_SIZE,\n",
    "    image_size=(IMG_HEIGHT, IMG_WIDTH),\n",
    "    shuffle=True,\n",
    "    seed=SEED,\n",
    ")"
   ]
  },
  {
   "cell_type": "markdown",
   "metadata": {},
   "source": [
    "We configure the dataset to use caching and buffered prefetching to optimize loading speed. "
   ]
  },
  {
   "cell_type": "code",
   "execution_count": null,
   "metadata": {
    "id": "0-vDt07khjaD"
   },
   "outputs": [],
   "source": [
    "train_data = train_data.cache().prefetch(buffer_size=AUTOTUNE)\n",
    "validation_data = validation_data.cache().prefetch(buffer_size=AUTOTUNE)"
   ]
  },
  {
   "cell_type": "markdown",
   "metadata": {},
   "source": [
    "We scale input pixels using `preprocess_input` prior to sending them into the model."
   ]
  },
  {
   "cell_type": "code",
   "execution_count": null,
   "metadata": {
    "id": "_C3uQrhYhmDs"
   },
   "outputs": [],
   "source": [
    "train_data = train_data.map(\n",
    "    lambda x, y: (tf.keras.applications.inception_v3.preprocess_input(x), y),\n",
    "    num_parallel_calls=AUTOTUNE\n",
    ")\n",
    "validation_data = validation_data.map(\n",
    "    lambda x, y: (tf.keras.applications.inception_v3.preprocess_input(x), y),\n",
    "    num_parallel_calls=AUTOTUNE\n",
    ")"
   ]
  },
  {
   "cell_type": "markdown",
   "metadata": {
    "id": "ZcmYLriIi7jL"
   },
   "source": [
    "# Create Baseline Model\n",
    "\n",
    "Here's the workflow:\n",
    "\n",
    "1. Instantiate a base model and load pre-trained weights into it without including the top layer.\n",
    "2. Freeze all layers in the base model by setting `trainable = False`.\n",
    "3. Create a new model on top of the output of one (or several) layers from the base model.\n",
    "4. Build the model.\n"
   ]
  },
  {
   "cell_type": "code",
   "execution_count": null,
   "metadata": {
    "colab": {
     "base_uri": "https://localhost:8080/"
    },
    "id": "uQeq1jPti9zI",
    "outputId": "a02b7ab0-77f0-4018-dd76-7bcb3d39e3c2"
   },
   "outputs": [
    {
     "name": "stdout",
     "output_type": "stream",
     "text": [
      "Downloading data from https://storage.googleapis.com/tensorflow/keras-applications/inception_v3/inception_v3_weights_tf_dim_ordering_tf_kernels_notop.h5\n",
      "87916544/87910968 [==============================] - 1s 0us/step\n",
      "87924736/87910968 [==============================] - 1s 0us/step\n"
     ]
    }
   ],
   "source": [
    "# 1.create the base model but omit the classification layer\n",
    "base_model = InceptionV3(weights='imagenet', include_top=False)\n",
    "\n",
    "# 2.freeze the convolutional base (i.e. retain the weights)\n",
    "base_model.trainable = False\n",
    "\n",
    "# 3.add classification head and prediction layer\n",
    "global_average_layer = tf.keras.layers.GlobalAveragePooling2D()\n",
    "prediction_layer = tf.keras.layers.Dense(4, activation='softmax')\n",
    "\n",
    "# 4.build the model\n",
    "inputs = tf.keras.Input(shape=(IMG_HEIGHT, IMG_WIDTH, 3))\n",
    "x = base_model(inputs, training=False)\n",
    "x = global_average_layer(x)\n",
    "outputs = prediction_layer(x)\n",
    "model = tf.keras.Model(inputs, outputs)"
   ]
  },
  {
   "cell_type": "code",
   "execution_count": null,
   "metadata": {
    "id": "BaKIVCPyjBXK"
   },
   "outputs": [],
   "source": [
    "# compile the model\n",
    "BASE_LEARNING_RATE = 0.001\n",
    "model.compile(\n",
    "    optimizer=tf.keras.optimizers.Adam(learning_rate=BASE_LEARNING_RATE),\n",
    "    loss=tf.keras.losses.CategoricalCrossentropy(),\n",
    "    metrics=['accuracy']\n",
    ")"
   ]
  },
  {
   "cell_type": "code",
   "execution_count": null,
   "metadata": {
    "colab": {
     "base_uri": "https://localhost:8080/"
    },
    "id": "hwwa_4pOjEMH",
    "outputId": "80d75675-7836-4aca-f267-a424f50eaac3"
   },
   "outputs": [
    {
     "name": "stdout",
     "output_type": "stream",
     "text": [
      "Model: \"model\"\n",
      "_________________________________________________________________\n",
      " Layer (type)                Output Shape              Param #   \n",
      "=================================================================\n",
      " input_2 (InputLayer)        [(None, 299, 299, 3)]     0         \n",
      "                                                                 \n",
      " inception_v3 (Functional)   (None, None, None, 2048)  21802784  \n",
      "                                                                 \n",
      " global_average_pooling2d (G  (None, 2048)             0         \n",
      " lobalAveragePooling2D)                                          \n",
      "                                                                 \n",
      " dense (Dense)               (None, 4)                 8196      \n",
      "                                                                 \n",
      "=================================================================\n",
      "Total params: 21,810,980\n",
      "Trainable params: 8,196\n",
      "Non-trainable params: 21,802,784\n",
      "_________________________________________________________________\n"
     ]
    }
   ],
   "source": [
    "model.summary()"
   ]
  },
  {
   "cell_type": "markdown",
   "metadata": {
    "id": "SiQ09yBMjFdK"
   },
   "source": [
    "# Model Training"
   ]
  },
  {
   "cell_type": "code",
   "execution_count": null,
   "metadata": {
    "colab": {
     "base_uri": "https://localhost:8080/"
    },
    "id": "Fx4oRoGDjLnO",
    "outputId": "1de80c08-6d36-4857-aac0-2015139ba6b5"
   },
   "outputs": [
    {
     "name": "stdout",
     "output_type": "stream",
     "text": [
      "32/32 [==============================] - 75s 1s/step - loss: 1.5604 - accuracy: 0.2450\n"
     ]
    }
   ],
   "source": [
    "INITIAL_EPOCHS = 10\n",
    "\n",
    "loss0, accuracy0 = model.evaluate(validation_data)"
   ]
  },
  {
   "cell_type": "code",
   "execution_count": null,
   "metadata": {
    "colab": {
     "base_uri": "https://localhost:8080/"
    },
    "id": "wJuuiCbYjNpq",
    "outputId": "0ea5ad86-99a8-48d6-b0bc-6026fd56ef65"
   },
   "outputs": [
    {
     "name": "stdout",
     "output_type": "stream",
     "text": [
      "Epoch 1/10\n",
      "32/32 [==============================] - 86s 2s/step - loss: 1.1618 - accuracy: 0.5100 - val_loss: 0.7542 - val_accuracy: 0.7520\n",
      "Epoch 2/10\n",
      "32/32 [==============================] - 5s 149ms/step - loss: 0.8831 - accuracy: 0.6580 - val_loss: 0.5923 - val_accuracy: 0.8270\n",
      "Epoch 3/10\n",
      "32/32 [==============================] - 5s 149ms/step - loss: 0.7756 - accuracy: 0.7050 - val_loss: 0.5177 - val_accuracy: 0.8540\n",
      "Epoch 4/10\n",
      "32/32 [==============================] - 5s 150ms/step - loss: 0.7069 - accuracy: 0.7360 - val_loss: 0.4708 - val_accuracy: 0.8680\n",
      "Epoch 5/10\n",
      "32/32 [==============================] - 5s 149ms/step - loss: 0.6568 - accuracy: 0.7590 - val_loss: 0.4358 - val_accuracy: 0.8860\n",
      "Epoch 6/10\n",
      "32/32 [==============================] - 5s 150ms/step - loss: 0.6165 - accuracy: 0.7770 - val_loss: 0.4097 - val_accuracy: 0.8930\n",
      "Epoch 7/10\n",
      "32/32 [==============================] - 5s 150ms/step - loss: 0.5826 - accuracy: 0.7900 - val_loss: 0.3895 - val_accuracy: 0.8950\n",
      "Epoch 8/10\n",
      "32/32 [==============================] - 5s 150ms/step - loss: 0.5533 - accuracy: 0.8090 - val_loss: 0.3734 - val_accuracy: 0.9000\n",
      "Epoch 9/10\n",
      "32/32 [==============================] - 5s 149ms/step - loss: 0.5275 - accuracy: 0.8210 - val_loss: 0.3603 - val_accuracy: 0.9030\n",
      "Epoch 10/10\n",
      "32/32 [==============================] - 5s 150ms/step - loss: 0.5043 - accuracy: 0.8320 - val_loss: 0.3493 - val_accuracy: 0.9010\n"
     ]
    }
   ],
   "source": [
    "history = model.fit(train_data,\n",
    "                    epochs=INITIAL_EPOCHS,\n",
    "                    validation_data=validation_data)"
   ]
  },
  {
   "cell_type": "code",
   "execution_count": null,
   "metadata": {
    "colab": {
     "base_uri": "https://localhost:8080/",
     "height": 948
    },
    "id": "NtglGdJB3RGq",
    "outputId": "f11c491d-1886-4c35-9ff6-10ad93d6249f"
   },
   "outputs": [
    {
     "data": {
      "image/png": "[encoded data removed]",
      "text/plain": [
       "<Figure size 1152x1152 with 2 Axes>"
      ]
     },
     "metadata": {
      "needs_background": "light"
     },
     "output_type": "display_data"
    }
   ],
   "source": [
    "# plot learning curves\n",
    "acc = history.history['accuracy']\n",
    "val_acc = history.history['val_accuracy']\n",
    "\n",
    "loss = history.history['loss']\n",
    "val_loss = history.history['val_loss']\n",
    "\n",
    "plt.figure(figsize=(16, 16))\n",
    "plt.subplot(2, 1, 1)\n",
    "plt.plot(acc, label='Training Accuracy')\n",
    "plt.plot(val_acc, label='Validation Accuracy')\n",
    "plt.legend(loc='lower right')\n",
    "plt.ylabel('Accuracy')\n",
    "plt.ylim([min(plt.ylim()),1])\n",
    "plt.title('Training and Validation Accuracy')\n",
    "\n",
    "plt.subplot(2, 1, 2)\n",
    "plt.plot(loss, label='Training Loss')\n",
    "plt.plot(val_loss, label='Validation Loss')\n",
    "plt.legend(loc='upper right')\n",
    "plt.ylabel('Cross Entropy')\n",
    "plt.ylim([0,1.0])\n",
    "plt.title('Training and Validation Loss')\n",
    "plt.xlabel('epoch')\n",
    "plt.show()"
   ]
  },
  {
   "cell_type": "code",
   "execution_count": null,
   "metadata": {
    "colab": {
     "base_uri": "https://localhost:8080/"
    },
    "id": "qA2wEfqm4Pv5",
    "outputId": "9cc63ba1-199c-4a92-db74-676bb27fb250"
   },
   "outputs": [
    {
     "name": "stdout",
     "output_type": "stream",
     "text": [
      "32/32 [==============================] - 2s 75ms/step - loss: 0.3493 - accuracy: 0.9010\n",
      "Validation accuracy : 0.9010000228881836\n"
     ]
    }
   ],
   "source": [
    "loss, accuracy = model.evaluate(validation_data)\n",
    "print('Validation accuracy :', accuracy)"
   ]
  },
  {
   "cell_type": "markdown",
   "metadata": {},
   "source": [
    "After only 10 epochs, validation accuracy is 90%. "
   ]
  },
  {
   "cell_type": "code",
   "execution_count": null,
   "metadata": {
    "id": "SB-v6fgV71Vc"
   },
   "outputs": [],
   "source": [
    "!cd drive/MyDrive/Colab\\ Notebooks/models"
   ]
  },
  {
   "cell_type": "code",
   "execution_count": null,
   "metadata": {
    "colab": {
     "base_uri": "https://localhost:8080/"
    },
    "id": "CQhxKUE88RB6",
    "outputId": "56d0d763-d5df-4e57-e45f-5655998d4a30"
   },
   "outputs": [
    {
     "name": "stdout",
     "output_type": "stream",
     "text": [
      "INFO:tensorflow:Assets written to: light-inceptionv3-model/assets\n"
     ]
    }
   ],
   "source": [
    "model.save('light-inceptionv3-model')"
   ]
  },
  {
   "cell_type": "code",
   "execution_count": null,
   "metadata": {},
   "outputs": [],
   "source": [
    "def calculate_cm():\n",
    "# Retrieve a batch of images from the validation set\n",
    "    image_batch, label_batch = validation_data.as_numpy_iterator().next() \n",
    "  \n",
    "    predictions = np.array([np.argmax(i) for i in predictions])\n",
    "    label_batch = np.array([np.argmax(i) for i in label_batch])  \n",
    "    cm = confusion_matrix(label_batch, predictions)\n",
    "    return cm\n",
    "\n",
    "cm = calculate_cm()"
   ]
  },
  {
   "cell_type": "code",
   "execution_count": 27,
   "metadata": {
    "id": "xVtwI6Uevzc-"
   },
   "outputs": [],
   "source": [
    "def plot_confusion_matrix(cm,\n",
    "                          target_names,\n",
    "                          title='Confusion matrix',\n",
    "                          cmap=None,\n",
    "                          normalize=True):\n",
    "    \"\"\"\n",
    "    given a sklearn confusion matrix (cm), make a nice plot\n",
    "\n",
    "    Arguments\n",
    "    ---------\n",
    "    cm:           confusion matrix from sklearn.metrics.confusion_matrix\n",
    "\n",
    "    target_names: classes such as [0, 1, 2, 3]                  \n",
    "\n",
    "    title:        the text to display at the top of the matrix\n",
    "\n",
    "    cmap:         the gradient of the values displayed from matplotlib.pyplot.cm\n",
    "                  see http://matplotlib.org/examples/color/colormaps_reference.html\n",
    "                  plt.get_cmap('jet') or plt.cm.Blues\n",
    "\n",
    "    normalize:    If False, plot the raw numbers\n",
    "                  If True, plot the proportions\n",
    "\n",
    "    Usage\n",
    "    -----\n",
    "    plot_confusion_matrix(cm           = cm,                  # confusion matrix created by\n",
    "                                                              # sklearn.metrics.confusion_matrix\n",
    "                          normalize    = True,                # show proportions\n",
    "                          target_names = y_labels_vals,       # list of names of the classes\n",
    "                          title        = best_estimator_name) # title of graph\n",
    "\n",
    "    Citiation\n",
    "    ---------\n",
    "    http://scikit-learn.org/stable/auto_examples/model_selection/plot_confusion_matrix.html\n",
    "\n",
    "    \"\"\"\n",
    "    accuracy = np.trace(cm) / float(np.sum(cm))\n",
    "    misclass = 1 - accuracy\n",
    "\n",
    "    if cmap is None:\n",
    "        cmap = plt.get_cmap('Blues')\n",
    "\n",
    "    plt.figure(figsize=(8, 6))\n",
    "    plt.imshow(cm, interpolation='nearest', cmap=cmap)\n",
    "    plt.title(title)\n",
    "    plt.colorbar()\n",
    "\n",
    "    if target_names is not None:\n",
    "        tick_marks = np.arange(len(target_names))\n",
    "        plt.xticks(tick_marks, target_names, rotation=45)\n",
    "        plt.yticks(tick_marks, target_names)\n",
    "\n",
    "    if normalize:\n",
    "        cm = cm.astype('float') / cm.sum(axis=1)[:, np.newaxis]\n",
    "\n",
    "\n",
    "    thresh = cm.max() / 1.5 if normalize else cm.max() / 2\n",
    "    for i, j in itertools.product(range(cm.shape[0]), range(cm.shape[1])):\n",
    "        if normalize:\n",
    "            plt.text(j, i, \"{:0.4f}\".format(cm[i, j]),\n",
    "                     horizontalalignment=\"center\",\n",
    "                     color=\"white\" if cm[i, j] > thresh else \"black\")\n",
    "        else:\n",
    "            plt.text(j, i, \"{:,}\".format(cm[i, j]),\n",
    "                     horizontalalignment=\"center\",\n",
    "                     color=\"white\" if cm[i, j] > thresh else \"black\")\n",
    "\n",
    "\n",
    "    plt.tight_layout()\n",
    "    plt.ylabel('True label')\n",
    "    plt.xlabel('Predicted label\\naccuracy={:0.4f}; misclass={:0.4f}'.format(accuracy, misclass))\n",
    "    plt.show()\n",
    "\n"
   ]
  },
  {
   "cell_type": "code",
   "execution_count": 28,
   "metadata": {
    "colab": {
     "base_uri": "https://localhost:8080/",
     "height": 467
    },
    "id": "2JsGl-yfv3Vg",
    "outputId": "4a31f7b9-e8a5-498e-a0c8-a7a103ba999b"
   },
   "outputs": [
    {
     "data": {
      "image/png": "[encoded data removed]",
      "text/plain": [
       "<Figure size 576x432 with 2 Axes>"
      ]
     },
     "metadata": {
      "needs_background": "light"
     },
     "output_type": "display_data"
    }
   ],
   "source": [
    "plot_confusion_matrix(cm,\n",
    "                          target_names=[0,1,2,3],\n",
    "                          title='Confusion matrix',\n",
    "                          cmap=None,\n",
    "                          normalize=False)"
   ]
  },
  {
   "cell_type": "code",
   "execution_count": null,
   "metadata": {
    "colab": {
     "base_uri": "https://localhost:8080/"
    },
    "id": "suoqrJvNhbtV",
    "outputId": "8b7dacc6-ead7-4eb2-b7ad-f96a623cedb2"
   },
   "outputs": [
    {
     "name": "stdout",
     "output_type": "stream",
     "text": [
      "Cleaning up CNV\n",
      "Cleaning up DRUSEN\n",
      "Cleaning up NORMAL\n",
      "Cleaning up DME\n",
      "Cleanup completed\n"
     ]
    }
   ],
   "source": [
    "# move sampled files back to their respective directories\n",
    "cleanup_classes()"
   ]
  }
 ],
 "metadata": {
  "accelerator": "GPU",
  "colab": {
   "collapsed_sections": [],
   "machine_shape": "hm",
   "name": "light_inceptionv3_model.ipynb",
   "provenance": []
  },
  "gpuClass": "standard",
  "kernelspec": {
   "display_name": "Python 3 (ipykernel)",
   "language": "python",
   "name": "python3"
  },
  "language_info": {
   "codemirror_mode": {
    "name": "ipython",
    "version": 3
   },
   "file_extension": ".py",
   "mimetype": "text/x-python",
   "name": "python",
   "nbconvert_exporter": "python",
   "pygments_lexer": "ipython3",
   "version": "3.9.12"
  },
  "vscode": {
   "interpreter": {
    "hash": "aee8b7b246df8f9039afb4144a1f6fd8d2ca17a180786b69acc140d282b71a49"
   }
  }
 },
 "nbformat": 4,
 "nbformat_minor": 1
}
